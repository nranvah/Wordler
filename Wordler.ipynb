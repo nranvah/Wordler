{
 "cells": [
  {
   "cell_type": "markdown",
   "metadata": {},
   "source": [
    "# Wordler Game Engine"
   ]
  },
  {
   "cell_type": "markdown",
   "metadata": {},
   "source": [
    "## Initial Imports"
   ]
  },
  {
   "cell_type": "code",
   "execution_count": 4,
   "metadata": {},
   "outputs": [],
   "source": [
    "import os\n",
    "import sys\n",
    "import pandas as pd\n",
    "import numpy as np\n",
    "from IPython.display import display, Markdown, HTML,clear_output\n",
    "from enum import auto, Enum\n",
    "import getpass"
   ]
  },
  {
   "cell_type": "markdown",
   "metadata": {},
   "source": [
    "# Wordler utilities"
   ]
  },
  {
   "cell_type": "code",
   "execution_count": 5,
   "metadata": {},
   "outputs": [],
   "source": [
    "class Wordler():\n",
    "#     Static stuff (i.e. instance independent)\n",
    "    @staticmethod\n",
    "    def get_english_words_path():\n",
    "        this_dir_path = os.path.dirname(os.path.realpath('__file__'))\n",
    "#         print (this_dir_path) \n",
    "        # These are all the english words\n",
    "        english_words_path = os.path.abspath(os.path.join(this_dir_path, 'english-words'))\n",
    "        return english_words_path\n",
    "\n",
    "    def reset_word_list(self, word_length: int = 5):\n",
    "        english_words_path = Wordler.get_english_words_path()\n",
    "        valid_wordles_path = os.path.join(english_words_path, f'valid_wordles_{word_length}.txt')\n",
    "        self.valid_wordles_path = valid_wordles_path\n",
    "        if not(os.path.exists(valid_wordles_path)):\n",
    "            words_alpha_list = pd.read_csv(os.path.join(english_words_path, 'words_alpha.txt'), header=None, names=['Words'], dtype='str')\n",
    "        #     display(words_alpha_list)\n",
    "            mask = (words_alpha_list.Words.str.len() == word_length)\n",
    "            wordle_valid_list = words_alpha_list[mask]\n",
    "            wordle_valid_list.to_csv(self.valid_wordles_path, header=None, index=None)\n",
    "\n",
    "    def get_word_list(self):\n",
    "        english_words_path = Wordler.get_english_words_path()\n",
    "        wordle_valid_list = pd.read_csv(self.valid_wordles_path, header=None, names=['Words'], dtype='str').Words.values\n",
    "#         display(wordle_valid_list)\n",
    "        return wordle_valid_list\n",
    "\n",
    "# Initialise\n",
    "    def __init__(self, word_length: int = 5):\n",
    "        self.word_length = 5\n",
    "        if not(word_length is None):\n",
    "            self.word_length = word_length                \n",
    "            self.reset_word_list(self.word_length)\n",
    "        self.valid_words = self.get_word_list()\n",
    "    def is_valid_wordle(self, word:str):\n",
    "        word = str.lower(word)\n",
    "        is_valid_wordle = word in self.valid_words\n",
    "        return is_valid_wordle\n",
    "\n",
    "    class Wordle_Status(Enum):\n",
    "        PLAYING = auto()\n",
    "        WON = auto()\n",
    "        LOST = auto()\n",
    "        \n",
    "    class Guess_Result(Enum):\n",
    "        NotInWord = auto()\n",
    "        InCorrectPlace = auto()\n",
    "        CorrectPlace = auto()\n",
    "        Unknown = auto()\n",
    "        \n",
    "    \n"
   ]
  },
  {
   "cell_type": "markdown",
   "metadata": {},
   "source": [
    "## Wordler Game"
   ]
  },
  {
   "cell_type": "code",
   "execution_count": 27,
   "metadata": {},
   "outputs": [],
   "source": [
    "# Gaming stuff\n",
    "class Game():\n",
    "    class Guess_Result():\n",
    "        def __init__(self, \n",
    "                     msg = '', \n",
    "                     status: Wordler.Wordle_Status = Wordler.Wordle_Status.PLAYING, \n",
    "                     tries_left: int = 6, \n",
    "                     results: dict = dict(),\n",
    "                     guesses: list = []\n",
    "                    ):\n",
    "            self.msg = msg\n",
    "            self.results = results\n",
    "            self.status = status\n",
    "            self.tries_left = tries_left\n",
    "\n",
    "    def __init__(self,word_to_guess: str, word_length: int = 5, max_tries:int = 6):\n",
    "        self.engine = Wordler(word_length = word_length) # Initialises and caches valid words\n",
    "        word_to_guess = str.lower(word_to_guess)\n",
    "        is_valid_wordle = self.engine.is_valid_wordle(word_to_guess)\n",
    "        if is_valid_wordle:\n",
    "            print(f'Good start buddy. That word is indeed a valid Wordle. ;-)')\n",
    "        else:\n",
    "             raise Exception(f'Come on!!!! Jeez! \"{word_to_guess}\" is not a valid Wordle.')   \n",
    "        self.word_to_guess = word_to_guess\n",
    "        self.max_tries = max_tries\n",
    "        self.tries_left = self.max_tries\n",
    "        self.status = Wordler.Wordle_Status.PLAYING\n",
    "        self.guesses = []\n",
    "        self.results_per_guess = []\n",
    "        self.alphabet_results = {char: Wordler.Guess_Result.Unknown for char in ['a', 'b', 'c', 'd', 'e', 'f', 'g', 'h', 'i', 'j', 'k', 'l', 'm', 'n', 'o', 'p', 'q', 'r', 's', 't', 'u', 'v', 'w', 'y', 'z']}\n",
    "#         print(self.alphabet_results)\n",
    "#         self.print_alphabet_results()\n",
    "    \n",
    "    def update_alphabet_results(self, char: str, result_type: Wordler.Guess_Result):\n",
    "#         print(f'updating character map for {char}')\n",
    "        if not(self.alphabet_results[char] == Wordler.Guess_Result.Unknown):\n",
    "            pass # do nothing\n",
    "        else:\n",
    "            self.alphabet_results[char] = result_type\n",
    "    \n",
    "    def print_alphabet_results(self):\n",
    "        def __print_inside_box(c: str, color: str):\n",
    "            mdar_string = f\" <span style='font-size:16px; font-weight: bold; background:#F5F5F5; border:1px; border-style:solid; border-color:#FF0000; padding: 0.25em; overflow: visible; color: {color};'>{c}</span> \"\n",
    "            return mdar_string\n",
    "        mdar_string = '<p><br><br>Your available letters are: '\n",
    "        for char in self.alphabet_results:\n",
    "            letter = char\n",
    "            result_type = self.alphabet_results[char]\n",
    "#             print(f'{letter}: {result_type}')\n",
    "            if result_type == Wordler.Guess_Result.CorrectPlace:\n",
    "                mdar_string +=  __print_inside_box(letter, 'green')\n",
    "            elif result_type == Wordler.Guess_Result.InCorrectPlace:\n",
    "                mdar_string +=  __print_inside_box(letter, 'orange')\n",
    "            elif result_type == Wordler.Guess_Result.NotInWord:\n",
    "                mdar_string +=  __print_inside_box(letter, 'red')\n",
    "            else:\n",
    "                mdar_string +=  __print_inside_box(letter, 'grey')\n",
    "        mdar_string += '</p>'\n",
    "#         print(mdar_string)\n",
    "        display(Markdown(mdar_string))\n",
    "\n",
    "    \n",
    "    def print_progress_box_guessed(self):\n",
    "        num_tries = len(self.results_per_guess)\n",
    "        for i in range(num_tries):\n",
    "            Game.printmd(self.results_per_guess[i])\n",
    "\n",
    "    def print_progress_box_unguessed(self):\n",
    "#         print('got b')\n",
    "        tries_left = self.tries_left\n",
    "        empty_results_set = [ (\"_\", Wordler.Guess_Result.Unknown) for i in range(self.engine.word_length) ]\n",
    "        for i in range(tries_left):\n",
    "            Game.printmd(empty_results_set)\n",
    "            \n",
    "            \n",
    "        def __print_inside_box(c: str, color: str):\n",
    "            mdar_string = f\" <span style='font-size:16px; font-weight: bold; background:#F5F5F5; border:1px; border-style:solid; border-color:#FF0000; padding: 0.25em; overflow: visible; color: {color};'>{c}</span> \"\n",
    "            return mdar_string\n",
    "        mdar_string = '<p><br><br>Your available letters are: '\n",
    "        for char in self.alphabet_results:\n",
    "            letter = char\n",
    "            result_type = self.alphabet_results[char]\n",
    "#             print(f'{letter}: {result_type}')\n",
    "            if result_type == Wordler.Guess_Result.CorrectPlace:\n",
    "                mdar_string +=  __print_inside_box(letter, 'green')\n",
    "            elif result_type == Wordler.Guess_Result.InCorrectPlace:\n",
    "                mdar_string +=  __print_inside_box(letter, 'orange')\n",
    "            elif result_type == Wordler.Guess_Result.NotInWord:\n",
    "                mdar_string +=  __print_inside_box(letter, 'red')\n",
    "            else:\n",
    "                mdar_string +=  __print_inside_box(letter, 'grey')\n",
    "        mdar_string += '</p>'\n",
    "#         print(mdar_string)\n",
    "        display(Markdown(mdar_string))\n",
    "\n",
    "    \n",
    "    \n",
    "\n",
    "    def tries_left(self):\n",
    "        return self.tries_left\n",
    "\n",
    "    def status(self):\n",
    "        return self.status\n",
    "\n",
    "    def guesses_msg(self):\n",
    "        tries_taken = self.max_tries - self.tries_left\n",
    "        msg = ''\n",
    "        msg += 'Your guesses have been: ' + ','.join(self.guesses) + '\\n'\n",
    "        msg += f'You have used up {tries_taken}/{self.max_tries} tries.\\n'\n",
    "        return msg\n",
    "    \n",
    "    def printmd(results:list = []):\n",
    "        def __print_inside_box(c: str, color: str):\n",
    "            md_string = f\" <span style='font-size:24px; background:#F0FFFF; border:1px; border-style:solid; border-color:#FF0000; padding: 0.1em; overflow: visible; color: {color};'>{c}</span> \"\n",
    "            return md_string\n",
    "        md_string = '<p>'\n",
    "        for result in results:\n",
    "            letter = result[0]\n",
    "            result_type = result[1]\n",
    "            if result_type == Wordler.Guess_Result.CorrectPlace:\n",
    "                md_string +=  __print_inside_box(letter, 'green')\n",
    "            elif result_type == Wordler.Guess_Result.InCorrectPlace:\n",
    "                md_string +=  __print_inside_box(letter, 'orange')\n",
    "            else:\n",
    "                md_string +=  __print_inside_box(letter, 'red')\n",
    "        md_string += '</p>'\n",
    "#         print(md_string)\n",
    "        display(Markdown(md_string))\n",
    "\n",
    "    \n",
    "    def won_result(self, results:list = []):\n",
    "        tries_taken = self.max_tries - self.tries_left\n",
    "        guesses = ','.join(self.guesses)\n",
    "        msg = f'You already won in {tries_taken}/{self.max_tries} tries.\\n'\n",
    "        msg += 'Congratulations.' + self.guesses_msg() + '\\n'\n",
    "        msg += f'Wordle was {self.word_to_guess}.'\n",
    "        result = Game.Guess_Result(\n",
    "            msg = msg, \n",
    "            status = self.status,\n",
    "            tries_left = self.tries_left,\n",
    "            results = results,\n",
    "            guesses = self.guesses\n",
    "        )\n",
    "        print(result.msg)\n",
    "#         print('\\n')\n",
    "        return result\n",
    "\n",
    "    def lost_result(self, results:list = []):\n",
    "        tries_taken = self.max_tries - self.tries_left\n",
    "        guesses = ','.join(self.guesses)\n",
    "        msg = f'You already lost in {tries_taken}.\\n'\n",
    "        msg += 'Go on, try another game of Wordle.' + self.guesses_msg() + '\\n'\n",
    "        msg += f'Wordle was {self.word_to_guess}.'\n",
    "        result = Game.Guess_Result(\n",
    "            msg = msg, \n",
    "            status = self.status,\n",
    "            tries_left = self.tries_left,\n",
    "            results = results,\n",
    "            guesses = self.guesses\n",
    "        )\n",
    "        print(result.msg)\n",
    "#         print('\\n')\n",
    "        return result\n",
    "\n",
    "    def invalid_guess_result(self, msg: str = ''):\n",
    "        tries_taken = self.max_tries - self.tries_left\n",
    "        guesses = ','.join(self.guesses)\n",
    "        msg = f'Invalid Entry because: {msg}' + '\\n'\n",
    "        result = Game.Guess_Result(\n",
    "            msg = msg, \n",
    "            status = self.status,\n",
    "            tries_left = self.tries_left,\n",
    "            guesses = self.guesses\n",
    "        )\n",
    "        print(result.msg)\n",
    "#         print('\\n')\n",
    "        return result\n",
    "\n",
    "\n",
    "    def playing_result(self, results:list = []):\n",
    "        tries_taken = self.max_tries - self.tries_left\n",
    "        msg = 'Keep playing.' + self.guesses_msg()\n",
    "        result = Game.Guess_Result(\n",
    "            msg = msg, \n",
    "            status = self.status,\n",
    "            tries_left = self.tries_left,\n",
    "            results = results,\n",
    "            guesses = self.guesses\n",
    "        )\n",
    "#         print(result.msg)\n",
    "#         print('\\n')\n",
    "        return result\n",
    "\n",
    "    def guess(self, word:str):\n",
    "        word = str.lower(word)\n",
    "        if (self.status == Wordler.Wordle_Status.WON):\n",
    "            return self.won_result()\n",
    "        if (self.status == Wordler.Wordle_Status.LOST):\n",
    "            return self.lost_result()\n",
    "        if (word in self.guesses):\n",
    "            return self.invalid_guess_result(f'{word} is in previous guesses.')\n",
    "        is_valid_wordle = self.engine.is_valid_wordle(word)\n",
    "        if not (is_valid_wordle):\n",
    "            return self.invalid_guess_result(f'{word} is not in list of words. Please try again.')\n",
    "        else:\n",
    "            self.tries_left -= 1\n",
    "            results = []\n",
    "            correct_guesses = 0\n",
    "            self.guesses.append(word)\n",
    "            for i in range(self.engine.word_length):\n",
    "                char = word[i]\n",
    "                if (char == self.word_to_guess[i]):\n",
    "                    this_result = Wordler.Guess_Result.CorrectPlace\n",
    "                    correct_guesses += 1\n",
    "                elif (char in self.word_to_guess): \n",
    "                    this_result = Wordler.Guess_Result.InCorrectPlace\n",
    "                else:\n",
    "                    this_result = Wordler.Guess_Result.NotInWord\n",
    "                results.append((char, this_result))\n",
    "                self.update_alphabet_results(char,this_result)\n",
    "#             Game.printmd(results)\n",
    "            self.results_per_guess.append(results)\n",
    "            if (correct_guesses == self.engine.word_length):\n",
    "                self.status = Wordler.Wordle_Status.WON\n",
    "                return self.won_result(results=results)\n",
    "            else:\n",
    "                if(self.tries_left == 0):\n",
    "                    self.status = Wordler.Wordle_Status.LOST\n",
    "                    return self.lost_result(results=results)\n",
    "                else:\n",
    "                    return self.playing_result(results=results)\n",
    "    def print_color_key():\n",
    "        color_key = [\n",
    "            ('In right place', Wordler.Guess_Result.CorrectPlace),\n",
    "            ('In wrong place', Wordler.Guess_Result.InCorrectPlace),\n",
    "            ('Not in word', Wordler.Guess_Result.NotInWord),\n",
    "            ('Unknown', Wordler.Guess_Result.Unknown),\n",
    "        ]\n",
    "        Game.printmd(color_key)\n",
    "        \n",
    "    def play_manual(self):\n",
    "        def is_number(guess):\n",
    "            try:\n",
    "                # Convert it into integer\n",
    "                val = int(guess)\n",
    "                return True\n",
    "            except ValueError:\n",
    "                try:\n",
    "                    # Convert it into float\n",
    "                    val = float(guess)\n",
    "                    return True\n",
    "                except ValueError:\n",
    "                    return False\n",
    "        msg = 'Lets begin the game.'\n",
    "        while self.status == Wordler.Wordle_Status.PLAYING:\n",
    "            def display_status(msg:str):\n",
    "                clear_output()\n",
    "                clear_output()\n",
    "                Game.print_color_key()\n",
    "                self.print_alphabet_results()\n",
    "                self.print_progress_box_guessed()\n",
    "                self.print_progress_box_unguessed()\n",
    "                print('\\n')\n",
    "                print(msg)\n",
    "            display_status(msg)\n",
    "            which_try = self.max_tries - self.tries_left + 1\n",
    "            this_guess = input(f'Enter your guess #{which_try} (enter number to quit the game): ')\n",
    "            if is_number(this_guess):\n",
    "                print('Sorry to see you go. Lets play another time.')\n",
    "                break\n",
    "            result = self.guess(this_guess)\n",
    "            msg = result.msg\n",
    "            display_status(msg)\n",
    "\n",
    "\n",
    "\n"
   ]
  },
  {
   "cell_type": "markdown",
   "metadata": {},
   "source": [
    "# Create your own wordle game without revealing the word"
   ]
  },
  {
   "cell_type": "code",
   "execution_count": 18,
   "metadata": {},
   "outputs": [],
   "source": [
    "def create_wordler(word_length:int = 5, max_tries:int = 6):\n",
    "    msg = 'Welcome WORDLE host. What is the word that people need to guess? '\n",
    "    word_to_guess = getpass.getpass(msg)\n",
    "    game = Game(word_to_guess = word_to_guess, word_length=word_length, max_tries=max_tries)\n",
    "    return game"
   ]
  },
  {
   "cell_type": "markdown",
   "metadata": {},
   "source": [
    "## Example of how to create and play"
   ]
  },
  {
   "cell_type": "code",
   "execution_count": 28,
   "metadata": {},
   "outputs": [
    {
     "name": "stdin",
     "output_type": "stream",
     "text": [
      "Welcome WORDLE host. What is the word that people need to guess?  ·····\n"
     ]
    },
    {
     "name": "stdout",
     "output_type": "stream",
     "text": [
      "Good start buddy. That word is indeed a valid Wordle. ;-)\n"
     ]
    }
   ],
   "source": [
    "game = create_wordler(5, 6)"
   ]
  },
  {
   "cell_type": "code",
   "execution_count": 29,
   "metadata": {},
   "outputs": [
    {
     "data": {
      "text/markdown": [
       "<p> <span style='font-size:24px; background:#F0FFFF; border:1px; border-style:solid; border-color:#FF0000; padding: 0.1em; overflow: visible; color: green;'>In right place</span>  <span style='font-size:24px; background:#F0FFFF; border:1px; border-style:solid; border-color:#FF0000; padding: 0.1em; overflow: visible; color: orange;'>In wrong place</span>  <span style='font-size:24px; background:#F0FFFF; border:1px; border-style:solid; border-color:#FF0000; padding: 0.1em; overflow: visible; color: red;'>Not in word</span>  <span style='font-size:24px; background:#F0FFFF; border:1px; border-style:solid; border-color:#FF0000; padding: 0.1em; overflow: visible; color: red;'>Unknown</span> </p>"
      ],
      "text/plain": [
       "<IPython.core.display.Markdown object>"
      ]
     },
     "metadata": {},
     "output_type": "display_data"
    },
    {
     "data": {
      "text/markdown": [
       "<p><br><br>Your available letters are:  <span style='font-size:16px; font-weight: bold; background:#F5F5F5; border:1px; border-style:solid; border-color:#FF0000; padding: 0.25em; overflow: visible; color: red;'>a</span>  <span style='font-size:16px; font-weight: bold; background:#F5F5F5; border:1px; border-style:solid; border-color:#FF0000; padding: 0.25em; overflow: visible; color: grey;'>b</span>  <span style='font-size:16px; font-weight: bold; background:#F5F5F5; border:1px; border-style:solid; border-color:#FF0000; padding: 0.25em; overflow: visible; color: grey;'>c</span>  <span style='font-size:16px; font-weight: bold; background:#F5F5F5; border:1px; border-style:solid; border-color:#FF0000; padding: 0.25em; overflow: visible; color: grey;'>d</span>  <span style='font-size:16px; font-weight: bold; background:#F5F5F5; border:1px; border-style:solid; border-color:#FF0000; padding: 0.25em; overflow: visible; color: red;'>e</span>  <span style='font-size:16px; font-weight: bold; background:#F5F5F5; border:1px; border-style:solid; border-color:#FF0000; padding: 0.25em; overflow: visible; color: grey;'>f</span>  <span style='font-size:16px; font-weight: bold; background:#F5F5F5; border:1px; border-style:solid; border-color:#FF0000; padding: 0.25em; overflow: visible; color: grey;'>g</span>  <span style='font-size:16px; font-weight: bold; background:#F5F5F5; border:1px; border-style:solid; border-color:#FF0000; padding: 0.25em; overflow: visible; color: grey;'>h</span>  <span style='font-size:16px; font-weight: bold; background:#F5F5F5; border:1px; border-style:solid; border-color:#FF0000; padding: 0.25em; overflow: visible; color: red;'>i</span>  <span style='font-size:16px; font-weight: bold; background:#F5F5F5; border:1px; border-style:solid; border-color:#FF0000; padding: 0.25em; overflow: visible; color: grey;'>j</span>  <span style='font-size:16px; font-weight: bold; background:#F5F5F5; border:1px; border-style:solid; border-color:#FF0000; padding: 0.25em; overflow: visible; color: grey;'>k</span>  <span style='font-size:16px; font-weight: bold; background:#F5F5F5; border:1px; border-style:solid; border-color:#FF0000; padding: 0.25em; overflow: visible; color: red;'>l</span>  <span style='font-size:16px; font-weight: bold; background:#F5F5F5; border:1px; border-style:solid; border-color:#FF0000; padding: 0.25em; overflow: visible; color: red;'>m</span>  <span style='font-size:16px; font-weight: bold; background:#F5F5F5; border:1px; border-style:solid; border-color:#FF0000; padding: 0.25em; overflow: visible; color: grey;'>n</span>  <span style='font-size:16px; font-weight: bold; background:#F5F5F5; border:1px; border-style:solid; border-color:#FF0000; padding: 0.25em; overflow: visible; color: grey;'>o</span>  <span style='font-size:16px; font-weight: bold; background:#F5F5F5; border:1px; border-style:solid; border-color:#FF0000; padding: 0.25em; overflow: visible; color: red;'>p</span>  <span style='font-size:16px; font-weight: bold; background:#F5F5F5; border:1px; border-style:solid; border-color:#FF0000; padding: 0.25em; overflow: visible; color: grey;'>q</span>  <span style='font-size:16px; font-weight: bold; background:#F5F5F5; border:1px; border-style:solid; border-color:#FF0000; padding: 0.25em; overflow: visible; color: orange;'>r</span>  <span style='font-size:16px; font-weight: bold; background:#F5F5F5; border:1px; border-style:solid; border-color:#FF0000; padding: 0.25em; overflow: visible; color: orange;'>s</span>  <span style='font-size:16px; font-weight: bold; background:#F5F5F5; border:1px; border-style:solid; border-color:#FF0000; padding: 0.25em; overflow: visible; color: orange;'>t</span>  <span style='font-size:16px; font-weight: bold; background:#F5F5F5; border:1px; border-style:solid; border-color:#FF0000; padding: 0.25em; overflow: visible; color: green;'>u</span>  <span style='font-size:16px; font-weight: bold; background:#F5F5F5; border:1px; border-style:solid; border-color:#FF0000; padding: 0.25em; overflow: visible; color: grey;'>v</span>  <span style='font-size:16px; font-weight: bold; background:#F5F5F5; border:1px; border-style:solid; border-color:#FF0000; padding: 0.25em; overflow: visible; color: grey;'>w</span>  <span style='font-size:16px; font-weight: bold; background:#F5F5F5; border:1px; border-style:solid; border-color:#FF0000; padding: 0.25em; overflow: visible; color: grey;'>y</span>  <span style='font-size:16px; font-weight: bold; background:#F5F5F5; border:1px; border-style:solid; border-color:#FF0000; padding: 0.25em; overflow: visible; color: grey;'>z</span> </p>"
      ],
      "text/plain": [
       "<IPython.core.display.Markdown object>"
      ]
     },
     "metadata": {},
     "output_type": "display_data"
    },
    {
     "data": {
      "text/markdown": [
       "<p> <span style='font-size:24px; background:#F0FFFF; border:1px; border-style:solid; border-color:#FF0000; padding: 0.1em; overflow: visible; color: orange;'>s</span>  <span style='font-size:24px; background:#F0FFFF; border:1px; border-style:solid; border-color:#FF0000; padding: 0.1em; overflow: visible; color: orange;'>t</span>  <span style='font-size:24px; background:#F0FFFF; border:1px; border-style:solid; border-color:#FF0000; padding: 0.1em; overflow: visible; color: red;'>a</span>  <span style='font-size:24px; background:#F0FFFF; border:1px; border-style:solid; border-color:#FF0000; padding: 0.1em; overflow: visible; color: red;'>i</span>  <span style='font-size:24px; background:#F0FFFF; border:1px; border-style:solid; border-color:#FF0000; padding: 0.1em; overflow: visible; color: orange;'>r</span> </p>"
      ],
      "text/plain": [
       "<IPython.core.display.Markdown object>"
      ]
     },
     "metadata": {},
     "output_type": "display_data"
    },
    {
     "data": {
      "text/markdown": [
       "<p> <span style='font-size:24px; background:#F0FFFF; border:1px; border-style:solid; border-color:#FF0000; padding: 0.1em; overflow: visible; color: red;'>p</span>  <span style='font-size:24px; background:#F0FFFF; border:1px; border-style:solid; border-color:#FF0000; padding: 0.1em; overflow: visible; color: red;'>l</span>  <span style='font-size:24px; background:#F0FFFF; border:1px; border-style:solid; border-color:#FF0000; padding: 0.1em; overflow: visible; color: green;'>u</span>  <span style='font-size:24px; background:#F0FFFF; border:1px; border-style:solid; border-color:#FF0000; padding: 0.1em; overflow: visible; color: red;'>m</span>  <span style='font-size:24px; background:#F0FFFF; border:1px; border-style:solid; border-color:#FF0000; padding: 0.1em; overflow: visible; color: red;'>e</span> </p>"
      ],
      "text/plain": [
       "<IPython.core.display.Markdown object>"
      ]
     },
     "metadata": {},
     "output_type": "display_data"
    },
    {
     "data": {
      "text/markdown": [
       "<p> <span style='font-size:24px; background:#F0FFFF; border:1px; border-style:solid; border-color:#FF0000; padding: 0.1em; overflow: visible; color: green;'>t</span>  <span style='font-size:24px; background:#F0FFFF; border:1px; border-style:solid; border-color:#FF0000; padding: 0.1em; overflow: visible; color: green;'>r</span>  <span style='font-size:24px; background:#F0FFFF; border:1px; border-style:solid; border-color:#FF0000; padding: 0.1em; overflow: visible; color: green;'>u</span>  <span style='font-size:24px; background:#F0FFFF; border:1px; border-style:solid; border-color:#FF0000; padding: 0.1em; overflow: visible; color: green;'>s</span>  <span style='font-size:24px; background:#F0FFFF; border:1px; border-style:solid; border-color:#FF0000; padding: 0.1em; overflow: visible; color: green;'>t</span> </p>"
      ],
      "text/plain": [
       "<IPython.core.display.Markdown object>"
      ]
     },
     "metadata": {},
     "output_type": "display_data"
    },
    {
     "data": {
      "text/markdown": [
       "<p> <span style='font-size:24px; background:#F0FFFF; border:1px; border-style:solid; border-color:#FF0000; padding: 0.1em; overflow: visible; color: red;'>_</span>  <span style='font-size:24px; background:#F0FFFF; border:1px; border-style:solid; border-color:#FF0000; padding: 0.1em; overflow: visible; color: red;'>_</span>  <span style='font-size:24px; background:#F0FFFF; border:1px; border-style:solid; border-color:#FF0000; padding: 0.1em; overflow: visible; color: red;'>_</span>  <span style='font-size:24px; background:#F0FFFF; border:1px; border-style:solid; border-color:#FF0000; padding: 0.1em; overflow: visible; color: red;'>_</span>  <span style='font-size:24px; background:#F0FFFF; border:1px; border-style:solid; border-color:#FF0000; padding: 0.1em; overflow: visible; color: red;'>_</span> </p>"
      ],
      "text/plain": [
       "<IPython.core.display.Markdown object>"
      ]
     },
     "metadata": {},
     "output_type": "display_data"
    },
    {
     "data": {
      "text/markdown": [
       "<p> <span style='font-size:24px; background:#F0FFFF; border:1px; border-style:solid; border-color:#FF0000; padding: 0.1em; overflow: visible; color: red;'>_</span>  <span style='font-size:24px; background:#F0FFFF; border:1px; border-style:solid; border-color:#FF0000; padding: 0.1em; overflow: visible; color: red;'>_</span>  <span style='font-size:24px; background:#F0FFFF; border:1px; border-style:solid; border-color:#FF0000; padding: 0.1em; overflow: visible; color: red;'>_</span>  <span style='font-size:24px; background:#F0FFFF; border:1px; border-style:solid; border-color:#FF0000; padding: 0.1em; overflow: visible; color: red;'>_</span>  <span style='font-size:24px; background:#F0FFFF; border:1px; border-style:solid; border-color:#FF0000; padding: 0.1em; overflow: visible; color: red;'>_</span> </p>"
      ],
      "text/plain": [
       "<IPython.core.display.Markdown object>"
      ]
     },
     "metadata": {},
     "output_type": "display_data"
    },
    {
     "data": {
      "text/markdown": [
       "<p> <span style='font-size:24px; background:#F0FFFF; border:1px; border-style:solid; border-color:#FF0000; padding: 0.1em; overflow: visible; color: red;'>_</span>  <span style='font-size:24px; background:#F0FFFF; border:1px; border-style:solid; border-color:#FF0000; padding: 0.1em; overflow: visible; color: red;'>_</span>  <span style='font-size:24px; background:#F0FFFF; border:1px; border-style:solid; border-color:#FF0000; padding: 0.1em; overflow: visible; color: red;'>_</span>  <span style='font-size:24px; background:#F0FFFF; border:1px; border-style:solid; border-color:#FF0000; padding: 0.1em; overflow: visible; color: red;'>_</span>  <span style='font-size:24px; background:#F0FFFF; border:1px; border-style:solid; border-color:#FF0000; padding: 0.1em; overflow: visible; color: red;'>_</span> </p>"
      ],
      "text/plain": [
       "<IPython.core.display.Markdown object>"
      ]
     },
     "metadata": {},
     "output_type": "display_data"
    },
    {
     "data": {
      "text/markdown": [
       "<p><br><br>Your available letters are:  <span style='font-size:16px; font-weight: bold; background:#F5F5F5; border:1px; border-style:solid; border-color:#FF0000; padding: 0.25em; overflow: visible; color: red;'>a</span>  <span style='font-size:16px; font-weight: bold; background:#F5F5F5; border:1px; border-style:solid; border-color:#FF0000; padding: 0.25em; overflow: visible; color: grey;'>b</span>  <span style='font-size:16px; font-weight: bold; background:#F5F5F5; border:1px; border-style:solid; border-color:#FF0000; padding: 0.25em; overflow: visible; color: grey;'>c</span>  <span style='font-size:16px; font-weight: bold; background:#F5F5F5; border:1px; border-style:solid; border-color:#FF0000; padding: 0.25em; overflow: visible; color: grey;'>d</span>  <span style='font-size:16px; font-weight: bold; background:#F5F5F5; border:1px; border-style:solid; border-color:#FF0000; padding: 0.25em; overflow: visible; color: red;'>e</span>  <span style='font-size:16px; font-weight: bold; background:#F5F5F5; border:1px; border-style:solid; border-color:#FF0000; padding: 0.25em; overflow: visible; color: grey;'>f</span>  <span style='font-size:16px; font-weight: bold; background:#F5F5F5; border:1px; border-style:solid; border-color:#FF0000; padding: 0.25em; overflow: visible; color: grey;'>g</span>  <span style='font-size:16px; font-weight: bold; background:#F5F5F5; border:1px; border-style:solid; border-color:#FF0000; padding: 0.25em; overflow: visible; color: grey;'>h</span>  <span style='font-size:16px; font-weight: bold; background:#F5F5F5; border:1px; border-style:solid; border-color:#FF0000; padding: 0.25em; overflow: visible; color: red;'>i</span>  <span style='font-size:16px; font-weight: bold; background:#F5F5F5; border:1px; border-style:solid; border-color:#FF0000; padding: 0.25em; overflow: visible; color: grey;'>j</span>  <span style='font-size:16px; font-weight: bold; background:#F5F5F5; border:1px; border-style:solid; border-color:#FF0000; padding: 0.25em; overflow: visible; color: grey;'>k</span>  <span style='font-size:16px; font-weight: bold; background:#F5F5F5; border:1px; border-style:solid; border-color:#FF0000; padding: 0.25em; overflow: visible; color: red;'>l</span>  <span style='font-size:16px; font-weight: bold; background:#F5F5F5; border:1px; border-style:solid; border-color:#FF0000; padding: 0.25em; overflow: visible; color: red;'>m</span>  <span style='font-size:16px; font-weight: bold; background:#F5F5F5; border:1px; border-style:solid; border-color:#FF0000; padding: 0.25em; overflow: visible; color: grey;'>n</span>  <span style='font-size:16px; font-weight: bold; background:#F5F5F5; border:1px; border-style:solid; border-color:#FF0000; padding: 0.25em; overflow: visible; color: grey;'>o</span>  <span style='font-size:16px; font-weight: bold; background:#F5F5F5; border:1px; border-style:solid; border-color:#FF0000; padding: 0.25em; overflow: visible; color: red;'>p</span>  <span style='font-size:16px; font-weight: bold; background:#F5F5F5; border:1px; border-style:solid; border-color:#FF0000; padding: 0.25em; overflow: visible; color: grey;'>q</span>  <span style='font-size:16px; font-weight: bold; background:#F5F5F5; border:1px; border-style:solid; border-color:#FF0000; padding: 0.25em; overflow: visible; color: orange;'>r</span>  <span style='font-size:16px; font-weight: bold; background:#F5F5F5; border:1px; border-style:solid; border-color:#FF0000; padding: 0.25em; overflow: visible; color: orange;'>s</span>  <span style='font-size:16px; font-weight: bold; background:#F5F5F5; border:1px; border-style:solid; border-color:#FF0000; padding: 0.25em; overflow: visible; color: orange;'>t</span>  <span style='font-size:16px; font-weight: bold; background:#F5F5F5; border:1px; border-style:solid; border-color:#FF0000; padding: 0.25em; overflow: visible; color: green;'>u</span>  <span style='font-size:16px; font-weight: bold; background:#F5F5F5; border:1px; border-style:solid; border-color:#FF0000; padding: 0.25em; overflow: visible; color: grey;'>v</span>  <span style='font-size:16px; font-weight: bold; background:#F5F5F5; border:1px; border-style:solid; border-color:#FF0000; padding: 0.25em; overflow: visible; color: grey;'>w</span>  <span style='font-size:16px; font-weight: bold; background:#F5F5F5; border:1px; border-style:solid; border-color:#FF0000; padding: 0.25em; overflow: visible; color: grey;'>y</span>  <span style='font-size:16px; font-weight: bold; background:#F5F5F5; border:1px; border-style:solid; border-color:#FF0000; padding: 0.25em; overflow: visible; color: grey;'>z</span> </p>"
      ],
      "text/plain": [
       "<IPython.core.display.Markdown object>"
      ]
     },
     "metadata": {},
     "output_type": "display_data"
    },
    {
     "name": "stdout",
     "output_type": "stream",
     "text": [
      "\n",
      "\n",
      "You already won in 3/6 tries.\n",
      "Congratulations.Your guesses have been: stair,plume,trust\n",
      "You have used up 3/6 tries.\n",
      "\n",
      "Wordle was trust.\n"
     ]
    }
   ],
   "source": [
    "game.play_manual()"
   ]
  },
  {
   "cell_type": "code",
   "execution_count": null,
   "metadata": {},
   "outputs": [],
   "source": []
  }
 ],
 "metadata": {
  "kernelspec": {
   "display_name": "Python 3",
   "language": "python",
   "name": "python3"
  },
  "language_info": {
   "codemirror_mode": {
    "name": "ipython",
    "version": 3
   },
   "file_extension": ".py",
   "mimetype": "text/x-python",
   "name": "python",
   "nbconvert_exporter": "python",
   "pygments_lexer": "ipython3",
   "version": "3.8.5"
  }
 },
 "nbformat": 4,
 "nbformat_minor": 4
}
