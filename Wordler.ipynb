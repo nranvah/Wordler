{
 "cells": [
  {
   "cell_type": "markdown",
   "metadata": {},
   "source": [
    "# Wordler Game Engine"
   ]
  },
  {
   "cell_type": "markdown",
   "metadata": {},
   "source": [
    "## Initial Imports"
   ]
  },
  {
   "cell_type": "code",
   "execution_count": 1,
   "metadata": {
    "jupyter": {
     "source_hidden": true
    }
   },
   "outputs": [],
   "source": [
    "import os\n",
    "import sys\n",
    "import pandas as pd\n",
    "import numpy as np\n",
    "from IPython.display import display, Markdown, HTML\n",
    "from enum import auto, Enum\n",
    "import getpass"
   ]
  },
  {
   "cell_type": "markdown",
   "metadata": {},
   "source": [
    "# Wordler utilities"
   ]
  },
  {
   "cell_type": "code",
   "execution_count": 2,
   "metadata": {
    "jupyter": {
     "source_hidden": true
    }
   },
   "outputs": [],
   "source": [
    "class Wordler():\n",
    "#     Static stuff (i.e. instance independent)\n",
    "    @staticmethod\n",
    "    def get_english_words_path():\n",
    "        this_dir_path = os.path.dirname(os.path.realpath('__file__'))\n",
    "#         print (this_dir_path) \n",
    "        # These are all the english words\n",
    "        english_words_path = os.path.abspath(os.path.join(this_dir_path, 'english-words'))\n",
    "        return english_words_path\n",
    "\n",
    "    @staticmethod\n",
    "    def reset_word_list(word_length: int = 5):\n",
    "        english_words_path = Wordler.get_english_words_path()\n",
    "        words_alpha_list = pd.read_csv(os.path.join(english_words_path, 'words_alpha.txt'), header=None, names=['Words'], dtype='str')\n",
    "    #     display(words_alpha_list)\n",
    "        mask = (words_alpha_list.Words.str.len() == word_length)\n",
    "        wordle_valid_list = words_alpha_list[mask]\n",
    "        wordle_valid_list.to_csv(os.path.join(english_words_path, 'valid_wordles.txt'), header=None, index=None)\n",
    "\n",
    "    @staticmethod\n",
    "    def get_word_list():\n",
    "        english_words_path = Wordler.get_english_words_path()\n",
    "        wordle_valid_list = pd.read_csv(os.path.join(english_words_path, 'valid_wordles.txt'), header=None, names=['Words'], dtype='str').Words.values\n",
    "#         display(wordle_valid_list)\n",
    "        return wordle_valid_list\n",
    "\n",
    "# Initialise\n",
    "    def __init__(self, word_length: int = 5):\n",
    "        self.word_length = 5\n",
    "        if not(word_length is None):\n",
    "            if word_length != 5:\n",
    "                Wordler.reset_word_list(word_length)\n",
    "                self.word_length = word_length                \n",
    "        self.valid_words = Wordler.get_word_list()\n",
    "    def is_valid_wordle(self, word:str):\n",
    "        word = str.lower(word)\n",
    "        is_valid_wordle = word in self.valid_words\n",
    "        return is_valid_wordle\n",
    "\n",
    "    class Wordle_Status(Enum):\n",
    "        PLAYING = auto()\n",
    "        WON = auto()\n",
    "        LOST = auto()\n",
    "        \n",
    "    class Guess_Result(Enum):\n",
    "        NotInWord = auto()\n",
    "        InCorrectPlace = auto()\n",
    "        CorrectPlace = auto()\n",
    "        \n",
    "    \n"
   ]
  },
  {
   "cell_type": "markdown",
   "metadata": {},
   "source": [
    "## Wordler Game"
   ]
  },
  {
   "cell_type": "code",
   "execution_count": 3,
   "metadata": {
    "jupyter": {
     "source_hidden": true
    }
   },
   "outputs": [],
   "source": [
    "# Gaming stuff\n",
    "class Game():\n",
    "    class Guess_Result():\n",
    "        def __init__(self, \n",
    "                     msg = '', \n",
    "                     status: Wordler.Wordle_Status = Wordler.Wordle_Status.PLAYING, \n",
    "                     tries_left: int = 6, \n",
    "                     results: dict = dict(),\n",
    "                     guesses: list = []\n",
    "                    ):\n",
    "            self.msg = msg\n",
    "            self.results = results\n",
    "            self.status = status\n",
    "            self.tries_left = tries_left\n",
    "\n",
    "    def __init__(self,word_to_guess: str):\n",
    "        self.engine = Wordler() # Initialises and caches valid words\n",
    "        word_to_guess = str.lower(word_to_guess)\n",
    "        is_valid_wordle = self.engine.is_valid_wordle(word_to_guess)\n",
    "        if is_valid_wordle:\n",
    "            print(f'Good start buddy. That word is indeed a valid Wordle. ;-)')\n",
    "        else:\n",
    "             raise Exception(f'Come on!!!! Jeez! \"{word_to_guess}\" is not a valid Wordle.')   \n",
    "        self.word_to_guess = word_to_guess\n",
    "        self.max_tries = 6\n",
    "        self.tries_left = self.max_tries\n",
    "        self.status = Wordler.Wordle_Status.PLAYING\n",
    "        self.guesses = []\n",
    "        self.results_per_guess = []\n",
    "\n",
    "    def tries_left(self):\n",
    "        return self.tries_left\n",
    "\n",
    "    def status(self):\n",
    "        return self.status\n",
    "\n",
    "    def guesses_msg(self):\n",
    "        tries_taken = self.max_tries - self.tries_left\n",
    "        msg = ''\n",
    "        msg += 'Your guesses have been: ' + ','.join(self.guesses) + '\\n'\n",
    "        msg += f'You have used up {tries_taken}/{self.max_tries} tries.\\n'\n",
    "        return msg\n",
    "    \n",
    "    def printmd(results:list = []):\n",
    "        def __print_inside_box(c: str, color: str):\n",
    "            md_string = f\" <span style='font-size:30px; background:#F0FFFF; border:3px; border-style:solid; border-color:#FF0000; padding: 1em; overflow: visible; color: {color};'>{c}</span> \"\n",
    "            return md_string\n",
    "        md_string = '<p>'\n",
    "        for result in results:\n",
    "            letter = result[0]\n",
    "            result_type = result[1]\n",
    "            if result_type == Wordler.Guess_Result.CorrectPlace:\n",
    "                md_string +=  __print_inside_box(letter, 'green')\n",
    "            elif result_type == Wordler.Guess_Result.InCorrectPlace:\n",
    "                md_string +=  __print_inside_box(letter, 'orange')\n",
    "            else:\n",
    "                md_string +=  __print_inside_box(letter, 'red')\n",
    "        md_string += '</p>'\n",
    "#         print(md_string)\n",
    "        display(Markdown(md_string))\n",
    "\n",
    "    \n",
    "    def won_result(self, results:list = []):\n",
    "        tries_taken = self.max_tries - self.tries_left\n",
    "        guesses = ','.join(self.guesses)\n",
    "        msg = f'You already won in {tries_taken}/{self.max_tries} tries.\\n'\n",
    "        msg += 'Congratulations.' + self.guesses_msg() + '\\n'\n",
    "        msg += f'Wordle was {self.word_to_guess}.'\n",
    "        result = Game.Guess_Result(\n",
    "            msg = msg, \n",
    "            status = self.status,\n",
    "            tries_left = self.tries_left,\n",
    "            results = results,\n",
    "            guesses = self.guesses\n",
    "        )\n",
    "        print('__________________________________________________________________________')\n",
    "        print(result.msg)\n",
    "        print('__________________________________________________________________________')\n",
    "        return result\n",
    "\n",
    "    def lost_result(self, results:list = []):\n",
    "        tries_taken = self.max_tries - self.tries_left\n",
    "        guesses = ','.join(self.guesses)\n",
    "        msg = f'You already lost in {tries_taken}.\\n'\n",
    "        msg += 'Keep playing.' + self.guesses_msg() + '\\n'\n",
    "        msg += f'Wordle was {self.word_to_guess}.'\n",
    "        result = Game.Guess_Result(\n",
    "            msg = msg, \n",
    "            status = self.status,\n",
    "            tries_left = self.tries_left,\n",
    "            results = results,\n",
    "            guesses = self.guesses\n",
    "        )\n",
    "        print('__________________________________________________________________________')\n",
    "        print(result.msg)\n",
    "        print('__________________________________________________________________________')\n",
    "        return result\n",
    "\n",
    "    def invalid_guess_result(self, msg: str = ''):\n",
    "        tries_taken = self.max_tries - self.tries_left\n",
    "        guesses = ','.join(self.guesses)\n",
    "        msg = f'Invalid Entry because: {msg}' + '\\n'\n",
    "        msg += 'Keep playing.' + self.guesses_msg()          \n",
    "        result = Game.Guess_Result(\n",
    "            msg = msg, \n",
    "            status = self.status,\n",
    "            tries_left = self.tries_left,\n",
    "            guesses = self.guesses\n",
    "        )\n",
    "        print('__________________________________________________________________________')\n",
    "        print(result.msg)\n",
    "        print('__________________________________________________________________________')\n",
    "        return result\n",
    "\n",
    "\n",
    "    def playing_result(self, results:list = []):\n",
    "        tries_taken = self.max_tries - self.tries_left\n",
    "        msg = 'Keep playing.' + self.guesses_msg()\n",
    "        result = Game.Guess_Result(\n",
    "            msg = msg, \n",
    "            status = self.status,\n",
    "            tries_left = self.tries_left,\n",
    "            results = results,\n",
    "            guesses = self.guesses\n",
    "        )\n",
    "        print('__________________________________________________________________________')\n",
    "        print(result.msg)\n",
    "        print('__________________________________________________________________________')\n",
    "        return result\n",
    "\n",
    "    def guess(self, word:str):\n",
    "        word = str.lower(word)\n",
    "        if (self.status == Wordler.Wordle_Status.WON):\n",
    "            return self.won_result()\n",
    "        if (self.status == Wordler.Wordle_Status.LOST):\n",
    "            return self.lost_result()\n",
    "        if (word in self.guesses):\n",
    "            return self.invalid_guess_result(f'{word} is in previous guesses.')\n",
    "        is_valid_wordle = self.engine.is_valid_wordle(word)\n",
    "        if not (is_valid_wordle):\n",
    "            return self.invalid_guess_result(f'{word} is not in list of words. Please try again.')\n",
    "        else:\n",
    "            self.tries_left -= 1\n",
    "            results = []\n",
    "            correct_guesses = 0\n",
    "            self.guesses.append(word)\n",
    "            for i in range(self.engine.word_length):\n",
    "                if (word[i] == self.word_to_guess[i]):\n",
    "                    this_result = Wordler.Guess_Result.CorrectPlace\n",
    "                    correct_guesses += 1\n",
    "                elif (word[i] in self.word_to_guess): \n",
    "                    this_result = Wordler.Guess_Result.InCorrectPlace\n",
    "                else:\n",
    "                    this_result = Wordler.Guess_Result.NotInWord\n",
    "                results.append((word[i], this_result))\n",
    "            Game.printmd(results)\n",
    "#                 print(f'{word[i]} : {this_result}')\n",
    "\n",
    "\n",
    "            self.results_per_guess.append(results)\n",
    "            if (correct_guesses == self.engine.word_length):\n",
    "                self.status = Wordler.Wordle_Status.WON\n",
    "                return self.won_result(results=results)\n",
    "            else:\n",
    "                if(self.tries_left == 0):\n",
    "                    self.status = Wordler.Wordle_Status.LOST\n",
    "                    return self.lost_result(results=results)\n",
    "                else:\n",
    "                    return self.playing_result(results=results)\n",
    "    def play_manual(self):\n",
    "        color_key = [\n",
    "            ('In the correct place is green', Wordler.Guess_Result.CorrectPlace),\n",
    "            ('In the word, but not in the correct place is orange', Wordler.Guess_Result.InCorrectPlace),\n",
    "            ('Not in the word is red', Wordler.Guess_Result.NotInWord),\n",
    "        ]\n",
    "        Game.printmd(color_key)\n",
    "        def is_number(guess):\n",
    "            try:\n",
    "                # Convert it into integer\n",
    "                val = int(guess)\n",
    "                return True\n",
    "            except ValueError:\n",
    "                try:\n",
    "                    # Convert it into float\n",
    "                    val = float(guess)\n",
    "                    return True\n",
    "                except ValueError:\n",
    "                    return False\n",
    "\n",
    "        while self.status == Wordler.Wordle_Status.PLAYING:\n",
    "            which_try = self.max_tries - self.tries_left + 1\n",
    "            this_guess = input(f'Enter your guess #{which_try} (enter number to quit the game): ')\n",
    "            if is_number(this_guess):\n",
    "                print('Sorry to see you go. Lets play another time.')\n",
    "                break\n",
    "            self.guess(this_guess)\n",
    "\n",
    "\n",
    "\n"
   ]
  },
  {
   "cell_type": "markdown",
   "metadata": {},
   "source": [
    "## Create your own wordle game without revealing the word"
   ]
  },
  {
   "cell_type": "code",
   "execution_count": 4,
   "metadata": {
    "jupyter": {
     "source_hidden": true
    }
   },
   "outputs": [],
   "source": [
    "def create_wordler():\n",
    "    msg = 'Welcome WORDLE host. What is the word that people need to guess? '\n",
    "    word_to_guess = getpass.getpass(msg)\n",
    "    game = Game(word_to_guess)\n",
    "    return game"
   ]
  },
  {
   "cell_type": "markdown",
   "metadata": {},
   "source": [
    "## Example of how to create and play"
   ]
  },
  {
   "cell_type": "code",
   "execution_count": 5,
   "metadata": {},
   "outputs": [
    {
     "name": "stdin",
     "output_type": "stream",
     "text": [
      "Welcome WORDLE host. What is the word that people need to guess?  ·····\n"
     ]
    },
    {
     "name": "stdout",
     "output_type": "stream",
     "text": [
      "Good start buddy. That word is indeed a valid Wordle. ;-)\n"
     ]
    }
   ],
   "source": [
    "game = create_wordler()"
   ]
  },
  {
   "cell_type": "code",
   "execution_count": 6,
   "metadata": {},
   "outputs": [
    {
     "data": {
      "text/markdown": [
       "<p> <span style='font-size:30px; background:#F0FFFF; border:3px; border-style:solid; border-color:#FF0000; padding: 1em; overflow: visible; color: green;'>In the correct place is green</span>  <span style='font-size:30px; background:#F0FFFF; border:3px; border-style:solid; border-color:#FF0000; padding: 1em; overflow: visible; color: orange;'>In the word, but not in the correct place is orange</span>  <span style='font-size:30px; background:#F0FFFF; border:3px; border-style:solid; border-color:#FF0000; padding: 1em; overflow: visible; color: red;'>Not in the word is red</span> </p>"
      ],
      "text/plain": [
       "<IPython.core.display.Markdown object>"
      ]
     },
     "metadata": {},
     "output_type": "display_data"
    },
    {
     "name": "stdin",
     "output_type": "stream",
     "text": [
      "Enter your guess #1 (enter number to quit the game):  stair\n"
     ]
    },
    {
     "data": {
      "text/markdown": [
       "<p> <span style='font-size:30px; background:#F0FFFF; border:3px; border-style:solid; border-color:#FF0000; padding: 1em; overflow: visible; color: orange;'>s</span>  <span style='font-size:30px; background:#F0FFFF; border:3px; border-style:solid; border-color:#FF0000; padding: 1em; overflow: visible; color: orange;'>t</span>  <span style='font-size:30px; background:#F0FFFF; border:3px; border-style:solid; border-color:#FF0000; padding: 1em; overflow: visible; color: green;'>a</span>  <span style='font-size:30px; background:#F0FFFF; border:3px; border-style:solid; border-color:#FF0000; padding: 1em; overflow: visible; color: red;'>i</span>  <span style='font-size:30px; background:#F0FFFF; border:3px; border-style:solid; border-color:#FF0000; padding: 1em; overflow: visible; color: red;'>r</span> </p>"
      ],
      "text/plain": [
       "<IPython.core.display.Markdown object>"
      ]
     },
     "metadata": {},
     "output_type": "display_data"
    },
    {
     "name": "stdout",
     "output_type": "stream",
     "text": [
      "__________________________________________________________________________\n",
      "Keep playing.Your guesses have been: stair\n",
      "You have used up 1/6 tries.\n",
      "\n",
      "__________________________________________________________________________\n"
     ]
    },
    {
     "name": "stdin",
     "output_type": "stream",
     "text": [
      "Enter your guess #2 (enter number to quit the game):  ucorn\n"
     ]
    },
    {
     "name": "stdout",
     "output_type": "stream",
     "text": [
      "__________________________________________________________________________\n",
      "Invalid Entry because: ucorn is not in list of words. Please try again.\n",
      "Keep playing.Your guesses have been: stair\n",
      "You have used up 1/6 tries.\n",
      "\n",
      "__________________________________________________________________________\n"
     ]
    },
    {
     "name": "stdin",
     "output_type": "stream",
     "text": [
      "Enter your guess #2 (enter number to quit the game):  chemo\n"
     ]
    },
    {
     "name": "stdout",
     "output_type": "stream",
     "text": [
      "__________________________________________________________________________\n",
      "Invalid Entry because: chemo is not in list of words. Please try again.\n",
      "Keep playing.Your guesses have been: stair\n",
      "You have used up 1/6 tries.\n",
      "\n",
      "__________________________________________________________________________\n"
     ]
    },
    {
     "name": "stdin",
     "output_type": "stream",
     "text": [
      "Enter your guess #2 (enter number to quit the game):  plume\n"
     ]
    },
    {
     "data": {
      "text/markdown": [
       "<p> <span style='font-size:30px; background:#F0FFFF; border:3px; border-style:solid; border-color:#FF0000; padding: 1em; overflow: visible; color: red;'>p</span>  <span style='font-size:30px; background:#F0FFFF; border:3px; border-style:solid; border-color:#FF0000; padding: 1em; overflow: visible; color: green;'>l</span>  <span style='font-size:30px; background:#F0FFFF; border:3px; border-style:solid; border-color:#FF0000; padding: 1em; overflow: visible; color: red;'>u</span>  <span style='font-size:30px; background:#F0FFFF; border:3px; border-style:solid; border-color:#FF0000; padding: 1em; overflow: visible; color: red;'>m</span>  <span style='font-size:30px; background:#F0FFFF; border:3px; border-style:solid; border-color:#FF0000; padding: 1em; overflow: visible; color: red;'>e</span> </p>"
      ],
      "text/plain": [
       "<IPython.core.display.Markdown object>"
      ]
     },
     "metadata": {},
     "output_type": "display_data"
    },
    {
     "name": "stdout",
     "output_type": "stream",
     "text": [
      "__________________________________________________________________________\n",
      "Keep playing.Your guesses have been: stair,plume\n",
      "You have used up 2/6 tries.\n",
      "\n",
      "__________________________________________________________________________\n"
     ]
    },
    {
     "name": "stdin",
     "output_type": "stream",
     "text": [
      "Enter your guess #3 (enter number to quit the game):  plast\n"
     ]
    },
    {
     "name": "stdout",
     "output_type": "stream",
     "text": [
      "__________________________________________________________________________\n",
      "Invalid Entry because: plast is not in list of words. Please try again.\n",
      "Keep playing.Your guesses have been: stair,plume\n",
      "You have used up 2/6 tries.\n",
      "\n",
      "__________________________________________________________________________\n"
     ]
    },
    {
     "name": "stdin",
     "output_type": "stream",
     "text": [
      "Enter your guess #3 (enter number to quit the game):  blast\n"
     ]
    },
    {
     "data": {
      "text/markdown": [
       "<p> <span style='font-size:30px; background:#F0FFFF; border:3px; border-style:solid; border-color:#FF0000; padding: 1em; overflow: visible; color: green;'>b</span>  <span style='font-size:30px; background:#F0FFFF; border:3px; border-style:solid; border-color:#FF0000; padding: 1em; overflow: visible; color: green;'>l</span>  <span style='font-size:30px; background:#F0FFFF; border:3px; border-style:solid; border-color:#FF0000; padding: 1em; overflow: visible; color: green;'>a</span>  <span style='font-size:30px; background:#F0FFFF; border:3px; border-style:solid; border-color:#FF0000; padding: 1em; overflow: visible; color: green;'>s</span>  <span style='font-size:30px; background:#F0FFFF; border:3px; border-style:solid; border-color:#FF0000; padding: 1em; overflow: visible; color: green;'>t</span> </p>"
      ],
      "text/plain": [
       "<IPython.core.display.Markdown object>"
      ]
     },
     "metadata": {},
     "output_type": "display_data"
    },
    {
     "name": "stdout",
     "output_type": "stream",
     "text": [
      "__________________________________________________________________________\n",
      "You already won in 3/6 tries.\n",
      "Congratulations.Your guesses have been: stair,plume,blast\n",
      "You have used up 3/6 tries.\n",
      "\n",
      "Wordle was blast.\n",
      "__________________________________________________________________________\n"
     ]
    }
   ],
   "source": [
    "game.play_manual()"
   ]
  },
  {
   "cell_type": "code",
   "execution_count": null,
   "metadata": {},
   "outputs": [],
   "source": []
  },
  {
   "cell_type": "code",
   "execution_count": null,
   "metadata": {},
   "outputs": [],
   "source": []
  },
  {
   "cell_type": "code",
   "execution_count": null,
   "metadata": {},
   "outputs": [],
   "source": []
  },
  {
   "cell_type": "code",
   "execution_count": null,
   "metadata": {},
   "outputs": [],
   "source": []
  }
 ],
 "metadata": {
  "kernelspec": {
   "display_name": "Python 3",
   "language": "python",
   "name": "python3"
  },
  "language_info": {
   "codemirror_mode": {
    "name": "ipython",
    "version": 3
   },
   "file_extension": ".py",
   "mimetype": "text/x-python",
   "name": "python",
   "nbconvert_exporter": "python",
   "pygments_lexer": "ipython3",
   "version": "3.8.5"
  }
 },
 "nbformat": 4,
 "nbformat_minor": 4
}
