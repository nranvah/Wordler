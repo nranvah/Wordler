{
 "cells": [
  {
   "cell_type": "code",
   "execution_count": 12,
   "metadata": {},
   "outputs": [],
   "source": [
    "import os\n",
    "import sys\n",
    "import pandas as pd\n",
    "import numpy as np\n",
    "from IPython.display import display\n",
    "from enum import auto, Enum\n",
    "import getpass"
   ]
  },
  {
   "cell_type": "code",
   "execution_count": 15,
   "metadata": {},
   "outputs": [],
   "source": [
    "class Wordler():\n",
    "#     Static stuff (i.e. instance independent)\n",
    "    @staticmethod\n",
    "    def get_english_words_path():\n",
    "        this_dir_path = os.path.dirname(os.path.realpath('__file__'))\n",
    "#         print (this_dir_path) \n",
    "        # These are all the english words\n",
    "        english_words_path = os.path.abspath(os.path.join(this_dir_path, 'english-words'))\n",
    "        return english_words_path\n",
    "\n",
    "    @staticmethod\n",
    "    def reset_word_list(word_length: int = 5):\n",
    "        english_words_path = Wordler.get_english_words_path()\n",
    "        words_alpha_list = pd.read_csv(os.path.join(english_words_path, 'words_alpha.txt'), header=None, names=['Words'], dtype='str')\n",
    "    #     display(words_alpha_list)\n",
    "        mask = (words_alpha_list.Words.str.len() == word_length)\n",
    "        wordle_valid_list = words_alpha_list[mask]\n",
    "        wordle_valid_list.to_csv(os.path.join(english_words_path, 'valid_wordles.txt'), header=None, index=None)\n",
    "\n",
    "    @staticmethod\n",
    "    def get_word_list():\n",
    "        english_words_path = Wordler.get_english_words_path()\n",
    "        wordle_valid_list = pd.read_csv(os.path.join(english_words_path, 'valid_wordles.txt'), header=None, names=['Words'], dtype='str').Words.values\n",
    "#         display(wordle_valid_list)\n",
    "        return wordle_valid_list\n",
    "\n",
    "# Initialise\n",
    "    def __init__(self, word_length: int = 5):\n",
    "        self.word_length = 5\n",
    "        if not(word_length is None):\n",
    "            if word_length != 5:\n",
    "                Wordler.reset_word_list(word_length)\n",
    "                self.word_length = word_length                \n",
    "        self.valid_words = Wordler.get_word_list()\n",
    "    def is_valid_wordle(self, word:str):\n",
    "        word = str.lower(word)\n",
    "        is_valid_wordle = word in self.valid_words\n",
    "        return is_valid_wordle\n",
    "\n",
    "    class Wordle_Status(Enum):\n",
    "        PLAYING = auto()\n",
    "        WON = auto()\n",
    "        LOST = auto()\n",
    "        \n",
    "    class Guess_Result(Enum):\n",
    "        NotInWord = auto()\n",
    "        InCorrectPlace = auto()\n",
    "        CorrectPlace = auto()\n",
    "        \n",
    "    \n",
    "# Gaming stuff\n",
    "class Game():\n",
    "    class Guess_Result():\n",
    "        def __init__(self, \n",
    "                     msg = '', \n",
    "                     status: Wordler.Wordle_Status = Wordler.Wordle_Status.PLAYING, \n",
    "                     tries_left: int = 6, \n",
    "                     results: dict = dict(),\n",
    "                     guesses: list = []\n",
    "                    ):\n",
    "            self.msg = msg\n",
    "            self.results = results\n",
    "            self.status = status\n",
    "            self.tries_left = tries_left\n",
    "\n",
    "    def __init__(self,word_to_guess: str):\n",
    "        self.engine = Wordler() # Initialises and caches valid words\n",
    "        word_to_guess = str.lower(word_to_guess)\n",
    "        is_valid_wordle = self.engine.is_valid_wordle(word_to_guess)\n",
    "        if is_valid_wordle:\n",
    "            print(f'Good start buddy. That word is indeed a valid Wordle. ;-)')\n",
    "        else:\n",
    "             raise Exception(f'Come on!!!! Jeez! \"{word_to_guess}\" is not a valid Wordle.')   \n",
    "        self.word_to_guess = word_to_guess\n",
    "        self.max_tries = 6\n",
    "        self.tries_left = self.max_tries\n",
    "        self.status = Wordler.Wordle_Status.PLAYING\n",
    "        self.guesses = []\n",
    "        self.results_per_guess = []\n",
    "\n",
    "    def tries_left(self):\n",
    "        return self.tries_left\n",
    "\n",
    "    def status(self):\n",
    "        return self.status\n",
    "\n",
    "    def guesses_msg(self):\n",
    "        tries_taken = self.max_tries - self.tries_left\n",
    "        msg = ''\n",
    "        msg += 'Your guesses have been: ' + ','.join(self.guesses) + '\\n'\n",
    "        msg += f'You have used up {tries_taken}/{self.max_tries} tries.\\n'\n",
    "        return msg\n",
    "\n",
    "    def won_result(self, results:dict = dict()):\n",
    "        tries_taken = self.max_tries - self.tries_left\n",
    "        guesses = ','.join(self.guesses)\n",
    "        msg = f'You already won in {tries_taken}/{self.max_tries} tries.\\n'\n",
    "        msg += 'Congratulations.' + self.guesses_msg() + '\\n'\n",
    "        msg += f'Wordle was {self.word_to_guess}.'\n",
    "        result = Game.Guess_Result(\n",
    "            msg = msg, \n",
    "            status = self.status,\n",
    "            tries_left = self.tries_left,\n",
    "            results = results,\n",
    "            guesses = self.guesses\n",
    "        )\n",
    "        print('__________________________________________________________________________')\n",
    "        print(result.msg)\n",
    "        print('__________________________________________________________________________')\n",
    "        return result\n",
    "\n",
    "    def lost_result(self, results:dict = dict()):\n",
    "        tries_taken = self.max_tries - self.tries_left\n",
    "        guesses = ','.join(self.guesses)\n",
    "        msg = f'You already lost in {tries_taken}.\\n'\n",
    "        msg += 'Keep playing.' + self.guesses_msg() + '\\n'\n",
    "        msg += f'Wordle was {self.word_to_guess}.'\n",
    "        result = Game.Guess_Result(\n",
    "            msg = msg, \n",
    "            status = self.status,\n",
    "            tries_left = self.tries_left,\n",
    "            results = results,\n",
    "            guesses = self.guesses\n",
    "        )\n",
    "        print('__________________________________________________________________________')\n",
    "        print(result.msg)\n",
    "        print('__________________________________________________________________________')\n",
    "        return result\n",
    "\n",
    "    def invalid_guess_result(self, msg: str = ''):\n",
    "        tries_taken = self.max_tries - self.tries_left\n",
    "        guesses = ','.join(self.guesses)\n",
    "        msg = f'Invalid Entry because: {msg}' + '\\n'\n",
    "        msg += 'Keep playing.' + self.guesses_msg()          \n",
    "        result = Game.Guess_Result(\n",
    "            msg = msg, \n",
    "            status = self.status,\n",
    "            tries_left = self.tries_left,\n",
    "            guesses = self.guesses\n",
    "        )\n",
    "        print('__________________________________________________________________________')\n",
    "        print(result.msg)\n",
    "        print('__________________________________________________________________________')\n",
    "        return result\n",
    "\n",
    "\n",
    "    def playing_result(self, results:dict):\n",
    "        tries_taken = self.max_tries - self.tries_left\n",
    "        msg = 'Keep playing.' + self.guesses_msg()\n",
    "        result = Game.Guess_Result(\n",
    "            msg = msg, \n",
    "            status = self.status,\n",
    "            tries_left = self.tries_left,\n",
    "            results = results,\n",
    "            guesses = self.guesses\n",
    "        )\n",
    "        print('__________________________________________________________________________')\n",
    "        print(result.msg)\n",
    "        print('__________________________________________________________________________')\n",
    "        return result\n",
    "\n",
    "    def guess(self, word:str):\n",
    "        word = str.lower(word)\n",
    "        if (self.status == Wordler.Wordle_Status.WON):\n",
    "            return self.won_result()\n",
    "        if (self.status == Wordler.Wordle_Status.LOST):\n",
    "            return self.lost_result()\n",
    "        if (word in self.guesses):\n",
    "            return self.invalid_guess_result(f'{word} is in previous guesses.')\n",
    "        is_valid_wordle = self.engine.is_valid_wordle(word)\n",
    "        if not (is_valid_wordle):\n",
    "            return self.invalid_guess_result(f'{word} is not in list of words. Please try again.')\n",
    "        else:\n",
    "            self.tries_left -= 1\n",
    "            results = {}\n",
    "            correct_guesses = 0\n",
    "            self.guesses.append(word)\n",
    "            for i in range(self.engine.word_length):\n",
    "                if (word[i] == self.word_to_guess[i]):\n",
    "                    this_result = Wordler.Guess_Result.CorrectPlace\n",
    "                    correct_guesses += 1\n",
    "                elif (word[i] in self.word_to_guess): \n",
    "                    this_result = Wordler.Guess_Result.InCorrectPlace\n",
    "                else:\n",
    "                    this_result = Wordler.Guess_Result.NotInWord\n",
    "                results[word[i]] = this_result\n",
    "                print(f'{word[i]} : {this_result}')\n",
    "\n",
    "\n",
    "            self.results_per_guess.append(results)\n",
    "            if (correct_guesses == self.engine.word_length):\n",
    "                self.status = Wordler.Wordle_Status.WON\n",
    "                return self.won_result(results=results)\n",
    "            else:\n",
    "                if(self.tries_left == 0):\n",
    "                    self.status = Wordler.Wordle_Status.LOST\n",
    "                    return self.lost_result(results=results)\n",
    "                else:\n",
    "                    return self.playing_result(results=results)\n",
    "    def play_manual(self):\n",
    "        def is_number(guess):\n",
    "            try:\n",
    "                # Convert it into integer\n",
    "                val = int(guess)\n",
    "                return True\n",
    "            except ValueError:\n",
    "                try:\n",
    "                    # Convert it into float\n",
    "                    val = float(guess)\n",
    "                    return True\n",
    "                except ValueError:\n",
    "                    return False\n",
    "\n",
    "        while self.status == Wordler.Wordle_Status.PLAYING:\n",
    "            this_guess = input('Enter your guess (enter number to quit the game): ')\n",
    "            if is_number(this_guess):\n",
    "                print('Sorry to see you go. Lets play another time.')\n",
    "                break\n",
    "            self.guess(this_guess)\n",
    "\n",
    "\n",
    "\n"
   ]
  },
  {
   "cell_type": "code",
   "execution_count": 16,
   "metadata": {},
   "outputs": [],
   "source": [
    "def create_wordler():\n",
    "    msg = 'Welcome WORDLE host. What is the word that people need to guess? '\n",
    "    word_to_guess = getpass.getpass(msg)\n",
    "    game = Game(word_to_guess)\n",
    "    return game"
   ]
  },
  {
   "cell_type": "code",
   "execution_count": 19,
   "metadata": {},
   "outputs": [
    {
     "name": "stdin",
     "output_type": "stream",
     "text": [
      "Welcome WORDLE host. What is the word that people need to guess?  ·····\n"
     ]
    },
    {
     "name": "stdout",
     "output_type": "stream",
     "text": [
      "Good start buddy. That word is indeed a valid Wordle. ;-)\n"
     ]
    }
   ],
   "source": [
    "game = create_wordler()"
   ]
  },
  {
   "cell_type": "code",
   "execution_count": 20,
   "metadata": {},
   "outputs": [
    {
     "name": "stdin",
     "output_type": "stream",
     "text": [
      "Enter your guess (enter number to quit the game):  whats\n"
     ]
    },
    {
     "name": "stdout",
     "output_type": "stream",
     "text": [
      "w : Guess_Result.CorrectPlace\n",
      "h : Guess_Result.CorrectPlace\n",
      "a : Guess_Result.InCorrectPlace\n",
      "t : Guess_Result.InCorrectPlace\n",
      "s : Guess_Result.NotInWord\n",
      "__________________________________________________________________________\n",
      "Keep playing.Your guesses have been: whats\n",
      "You have used up 1/6 tries.\n",
      "\n",
      "__________________________________________________________________________\n"
     ]
    },
    {
     "name": "stdin",
     "output_type": "stream",
     "text": [
      "Enter your guess (enter number to quit the game):  butts\n"
     ]
    },
    {
     "name": "stdout",
     "output_type": "stream",
     "text": [
      "b : Guess_Result.NotInWord\n",
      "u : Guess_Result.NotInWord\n",
      "t : Guess_Result.InCorrectPlace\n",
      "t : Guess_Result.InCorrectPlace\n",
      "s : Guess_Result.NotInWord\n",
      "__________________________________________________________________________\n",
      "Keep playing.Your guesses have been: whats,butts\n",
      "You have used up 2/6 tries.\n",
      "\n",
      "__________________________________________________________________________\n"
     ]
    },
    {
     "name": "stdin",
     "output_type": "stream",
     "text": [
      "Enter your guess (enter number to quit the game):  abrad\n"
     ]
    },
    {
     "name": "stdout",
     "output_type": "stream",
     "text": [
      "__________________________________________________________________________\n",
      "Invalid Entry because: abrad is not in list of words. Please try again.\n",
      "Keep playing.Your guesses have been: whats,butts\n",
      "You have used up 2/6 tries.\n",
      "\n",
      "__________________________________________________________________________\n"
     ]
    },
    {
     "name": "stdin",
     "output_type": "stream",
     "text": [
      "Enter your guess (enter number to quit the game):  brood\n"
     ]
    },
    {
     "name": "stdout",
     "output_type": "stream",
     "text": [
      "b : Guess_Result.NotInWord\n",
      "r : Guess_Result.NotInWord\n",
      "o : Guess_Result.NotInWord\n",
      "o : Guess_Result.NotInWord\n",
      "d : Guess_Result.NotInWord\n",
      "__________________________________________________________________________\n",
      "Keep playing.Your guesses have been: whats,butts,brood\n",
      "You have used up 3/6 tries.\n",
      "\n",
      "__________________________________________________________________________\n"
     ]
    },
    {
     "name": "stdin",
     "output_type": "stream",
     "text": [
      "Enter your guess (enter number to quit the game):  cleat\n"
     ]
    },
    {
     "name": "stdout",
     "output_type": "stream",
     "text": [
      "c : Guess_Result.NotInWord\n",
      "l : Guess_Result.NotInWord\n",
      "e : Guess_Result.CorrectPlace\n",
      "a : Guess_Result.CorrectPlace\n",
      "t : Guess_Result.CorrectPlace\n",
      "__________________________________________________________________________\n",
      "Keep playing.Your guesses have been: whats,butts,brood,cleat\n",
      "You have used up 4/6 tries.\n",
      "\n",
      "__________________________________________________________________________\n"
     ]
    },
    {
     "name": "stdin",
     "output_type": "stream",
     "text": [
      "Enter your guess (enter number to quit the game):  clash\n"
     ]
    },
    {
     "name": "stdout",
     "output_type": "stream",
     "text": [
      "c : Guess_Result.NotInWord\n",
      "l : Guess_Result.NotInWord\n",
      "a : Guess_Result.InCorrectPlace\n",
      "s : Guess_Result.NotInWord\n",
      "h : Guess_Result.InCorrectPlace\n",
      "__________________________________________________________________________\n",
      "Keep playing.Your guesses have been: whats,butts,brood,cleat,clash\n",
      "You have used up 5/6 tries.\n",
      "\n",
      "__________________________________________________________________________\n"
     ]
    },
    {
     "name": "stdin",
     "output_type": "stream",
     "text": [
      "Enter your guess (enter number to quit the game):  burns\n"
     ]
    },
    {
     "name": "stdout",
     "output_type": "stream",
     "text": [
      "b : Guess_Result.NotInWord\n",
      "u : Guess_Result.NotInWord\n",
      "r : Guess_Result.NotInWord\n",
      "n : Guess_Result.NotInWord\n",
      "s : Guess_Result.NotInWord\n",
      "__________________________________________________________________________\n",
      "You already lost in 6.\n",
      "Keep playing.Your guesses have been: whats,butts,brood,cleat,clash,burns\n",
      "You have used up 6/6 tries.\n",
      "\n",
      "Wordle was wheat.\n",
      "__________________________________________________________________________\n"
     ]
    }
   ],
   "source": [
    "game.play_manual()"
   ]
  },
  {
   "cell_type": "code",
   "execution_count": null,
   "metadata": {},
   "outputs": [],
   "source": []
  }
 ],
 "metadata": {
  "kernelspec": {
   "display_name": "Python 3",
   "language": "python",
   "name": "python3"
  },
  "language_info": {
   "codemirror_mode": {
    "name": "ipython",
    "version": 3
   },
   "file_extension": ".py",
   "mimetype": "text/x-python",
   "name": "python",
   "nbconvert_exporter": "python",
   "pygments_lexer": "ipython3",
   "version": "3.8.5"
  }
 },
 "nbformat": 4,
 "nbformat_minor": 4
}
